{
 "cells": [
  {
   "cell_type": "markdown",
   "id": "9146cd86-a994-410a-b599-30bc2ec33306",
   "metadata": {},
   "source": [
    "마크다운markdown\n",
    "주피터 노트북등에 문서 작성시 내용전달시 이해하기 쉽도록 추가적으로 작성하는 꾸밈 문장을 마크다운을 이용해서 작성함\n",
    "이러한 종류의 문서는 보통 .md라는 확장자를 가짐"
   ]
  },
  {
   "cell_type": "markdown",
   "id": "9a2f6cd2-f1dd-4d5f-bec6-2af89e957fb8",
   "metadata": {},
   "source": []
  },
  {
   "cell_type": "code",
   "execution_count": null,
   "id": "64582e2d-f7ea-4a14-b35c-495c3785bc19",
   "metadata": {},
   "outputs": [],
   "source": []
  },
  {
   "cell_type": "code",
   "execution_count": null,
   "id": "35432fb1-4ef3-4997-ab40-0749ad7b5538",
   "metadata": {},
   "outputs": [],
   "source": []
  },
  {
   "cell_type": "code",
   "execution_count": null,
   "id": "1692b449-8709-4879-857d-557f5485f29e",
   "metadata": {},
   "outputs": [],
   "source": []
  },
  {
   "cell_type": "code",
   "execution_count": null,
   "id": "6ec69c87-8ce6-4347-b23b-8efcfedca312",
   "metadata": {},
   "outputs": [],
   "source": []
  },
  {
   "cell_type": "markdown",
   "id": "cad9754f-1780-4bc1-a3c3-cd376923658a",
   "metadata": {
    "tags": []
   },
   "source": [
    "# 문장꾸미기\n",
    "\n",
    "문장꾸미기에는 **, __, ~~ 등이 사용된다\n",
    "줄바꿈은 스페이스바 2번 입력\n",
    "진하게 표시하려면 * 사용\n",
    "진하게 표시하려면 __ 사용\n",
    "_ 기울어진 글씨__ 를 표시하려면 __ 사용 기울어진 글씨는 \\ 로도 표시할 수 있음\n",
    "~~취소선은~~ ~로 이용함\n",
    "\n",
    "\n",
    "# 구분선\n",
    "* 구분선을 그을려면 -를 여러번 작성하면 됨\n",
    "\n",
    "\n",
    "항목 추가 \n",
    "항목 추가\n",
    "\n",
    "\n",
    "ㅠㅠ\n",
    "\n",
    "\n",
    "\n",
    "\n",
    "\n",
    "\n",
    "\n",
    "\n",
    "\n",
    "\n",
    "\n",
    "\n",
    "\n"
   ]
  },
  {
   "cell_type": "markdown",
   "id": "23feb17a-17c4-40f5-8b7b-19fa86c5a21d",
   "metadata": {},
   "source": [
    "인용구\n",
    "\n",
    "    "
   ]
  },
  {
   "cell_type": "markdown",
   "id": "ea1ed9c8-0352-4739-bfc9-ac1ec3477764",
   "metadata": {},
   "source": [
    "# 순서있는 목록\n",
    "* 순서있는 목록을 만들려면 항목앞에 숫자를 작성한다\n",
    "\n",
    "## 좋아하는 게임들\n",
    "1. 디아블로 4\n",
    "2. 월드오브워크래프트\n",
    "3. 스타크래프트\n",
    "4. 롤"
   ]
  },
  {
   "cell_type": "markdown",
   "id": "62273a28-1984-4932-8fd5-5549be584274",
   "metadata": {},
   "source": [
    "# 순서없는 목록\n",
    "* 순서없는 목록을 만들려면 항목앞에 *,+,-를 작성한다\n",
    "* 단, 목록에 들여쓰기를 적용하려면 탭을 사용함\n",
    "\n",
    "## 좋아하는 게임들\n",
    "+ 디아블로 4\n",
    "+ 월드오브워크래프트\n",
    "+ 스타크래프트\n",
    "+ 롤"
   ]
  },
  {
   "cell_type": "markdown",
   "id": "2ea9d892-7b33-4aa0-b3df-ae9c76e44195",
   "metadata": {},
   "source": [
    "## 좋아하는 음식\n",
    "* 분식\n",
    "    + 라면\n",
    "    + 김밥\n",
    "    + 떡국\n",
    "* 양식\n",
    "    - 돈까스\n",
    "    - 오무라이스\n",
    "* 한식"
   ]
  },
  {
   "cell_type": "markdown",
   "id": "210a28f1-90b4-4b52-a790-35eccf501743",
   "metadata": {},
   "source": [
    "# 링크\n",
    "+ `[링크텍스트](링크URL)`로 링크를 생성할 수 있음\n",
    "+ [네이버로(http://www.naver.co.kr)\n",
    "+ [구글로](http://google.co.kr)"
   ]
  },
  {
   "cell_type": "markdown",
   "id": "e7a39215-379c-4558-839e-944cfc17e82a",
   "metadata": {},
   "source": [
    "# 이미지\n",
    "* `![그림설명](그림주소)`로 그림을 나타낼수 있음\n",
    "+ 간단하게 img태그를 사용해서 이미지를 나타낼수도 있음 (크기변경가능)"
   ]
  },
  {
   "cell_type": "markdown",
   "id": "9f91fdd3-47d2-4911-9f1e-ea5b1e589448",
   "metadata": {},
   "source": [
    "![개](개3.jpg)"
   ]
  },
  {
   "cell_type": "markdown",
   "id": "8d497839-6eca-41d4-b1b5-dff88c089f2e",
   "metadata": {},
   "source": [
    "<img alt='수지뽀뽀' src='https://file.thisisgame.com/upload/tboard/user/2013/01/25/20130125181216_6417.jpg' width='200px' height='200px' />"
   ]
  },
  {
   "cell_type": "markdown",
   "id": "bb9eeec0-9bb9-461f-9ef3-4af2e5cdbf68",
   "metadata": {},
   "source": [
    "# 9. 테이블\n",
    "+ 데이터와 |, -- 문자를 이용함\n",
    "+ 정렬을 하려면 : 을 이용함"
   ]
  },
  {
   "cell_type": "markdown",
   "id": "7d251ef2-21ab-4934-8fa0-4ff12af581c2",
   "metadata": {},
   "source": [
    "|이름|국어|영어|수학|\n",
    "|---|---|---|---|\n",
    "|수지|99|98|97|\n",
    "|지현|55|66|77|"
   ]
  },
  {
   "cell_type": "markdown",
   "id": "f1a08f30-89da-466e-855a-92f8d614217b",
   "metadata": {},
   "source": [
    "# 수식\n",
    "+ 수학식은 $기호를 이용해서 표현 가능\n",
    "+ 수학식은 LateX 문법을 따름"
   ]
  },
  {
   "cell_type": "markdown",
   "id": "dd6cd95f-f54b-4e3a-81cb-6dfbf131ee41",
   "metadata": {},
   "source": [
    "$ a^2 = b^2 + c^2 $"
   ]
  },
  {
   "cell_type": "markdown",
   "id": "d3212cb9-c20b-41e3-bd7c-581c71726576",
   "metadata": {},
   "source": [
    "$ ax^2 + bx + c = 0 $"
   ]
  },
  {
   "cell_type": "markdown",
   "id": "3bf3a21b-9494-497a-88cb-ebb17601d536",
   "metadata": {},
   "source": [
    "$ x = { -b \\pm \\sqrt {b^2 - 4ac} \\over 2a } $ "
   ]
  },
  {
   "cell_type": "markdown",
   "id": "4888ea59-c61a-4257-b07f-db397a93f0b9",
   "metadata": {},
   "source": [
    "# 코드블럭\n",
    "* ` ``` 프로그래밍 코드 ``` ` 형태로 작성함"
   ]
  },
  {
   "cell_type": "markdown",
   "id": "b93d83e3-a631-4d11-a5a5-d88250c950d8",
   "metadata": {},
   "source": [
    "```\n",
    "public static void main(String[] args) {\n",
    "    system.out.print(\"Hello, World!!\");\n",
    "}\n",
    "```"
   ]
  },
  {
   "cell_type": "code",
   "execution_count": null,
   "id": "cffbd72c-8927-4283-b3b0-e134c892d611",
   "metadata": {},
   "outputs": [],
   "source": []
  }
 ],
 "metadata": {
  "kernelspec": {
   "display_name": "Python 3",
   "language": "python",
   "name": "python3"
  },
  "language_info": {
   "codemirror_mode": {
    "name": "ipython",
    "version": 3
   },
   "file_extension": ".py",
   "mimetype": "text/x-python",
   "name": "python",
   "nbconvert_exporter": "python",
   "pygments_lexer": "ipython3",
   "version": "3.8.12"
  }
 },
 "nbformat": 4,
 "nbformat_minor": 5
}
